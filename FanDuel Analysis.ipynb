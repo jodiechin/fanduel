{
 "cells": [
  {
   "cell_type": "markdown",
   "metadata": {},
   "source": [
    "# FanDuel Technical Assessment Part 1"
   ]
  },
  {
   "cell_type": "markdown",
   "metadata": {},
   "source": [
    "Context: we ran a CRM Racing promo on a selected target of our Racing customers on January 21st and we would like to assess the impact of this promo\n",
    "\n",
    "Goal: to use the attached data for an analysis of the promo’s performance, and to present the result in a comprehensive and clear fashion (Power Point presentation or another presentation tool)\n",
    "* How would you assess the ROI of the promo?\n",
    "* Which are the final recommendations?\n",
    "* Nice to have: a few considerations on the approach you used and any caveat about the analysis"
   ]
  },
  {
   "cell_type": "markdown",
   "metadata": {},
   "source": [
    "want to see if the promo \n",
    "* generates traffic for existing accounts\n",
    "* targets new customers\n",
    "* loyal customers still use promo"
   ]
  },
  {
   "cell_type": "code",
   "execution_count": 415,
   "metadata": {},
   "outputs": [],
   "source": [
    "import pandas as pd\n",
    "import seaborn as sns\n",
    "import numpy as np\n",
    "import matplotlib.pyplot as plt"
   ]
  },
  {
   "cell_type": "code",
   "execution_count": 416,
   "metadata": {},
   "outputs": [],
   "source": [
    "race = pd.read_csv('Business_case_Racing.csv')"
   ]
  },
  {
   "cell_type": "code",
   "execution_count": 417,
   "metadata": {},
   "outputs": [
    {
     "data": {
      "text/html": [
       "<div>\n",
       "<style scoped>\n",
       "    .dataframe tbody tr th:only-of-type {\n",
       "        vertical-align: middle;\n",
       "    }\n",
       "\n",
       "    .dataframe tbody tr th {\n",
       "        vertical-align: top;\n",
       "    }\n",
       "\n",
       "    .dataframe thead th {\n",
       "        text-align: right;\n",
       "    }\n",
       "</style>\n",
       "<table border=\"1\" class=\"dataframe\">\n",
       "  <thead>\n",
       "    <tr style=\"text-align: right;\">\n",
       "      <th></th>\n",
       "      <th>accountid</th>\n",
       "      <th>date</th>\n",
       "      <th>handle</th>\n",
       "      <th>grossrevenue</th>\n",
       "      <th>last_12months_segment</th>\n",
       "      <th>Target/CG</th>\n",
       "      <th>bonus</th>\n",
       "    </tr>\n",
       "  </thead>\n",
       "  <tbody>\n",
       "    <tr>\n",
       "      <th>0</th>\n",
       "      <td>1230877</td>\n",
       "      <td>11/24/2019</td>\n",
       "      <td>1104750.0</td>\n",
       "      <td>-49000.0</td>\n",
       "      <td>high</td>\n",
       "      <td>Target</td>\n",
       "      <td>20</td>\n",
       "    </tr>\n",
       "    <tr>\n",
       "      <th>1</th>\n",
       "      <td>1230877</td>\n",
       "      <td>11/26/2019</td>\n",
       "      <td>596214.0</td>\n",
       "      <td>-30336.0</td>\n",
       "      <td>high</td>\n",
       "      <td>Target</td>\n",
       "      <td>20</td>\n",
       "    </tr>\n",
       "    <tr>\n",
       "      <th>2</th>\n",
       "      <td>1230877</td>\n",
       "      <td>11/13/2019</td>\n",
       "      <td>465250.0</td>\n",
       "      <td>-36000.0</td>\n",
       "      <td>high</td>\n",
       "      <td>Target</td>\n",
       "      <td>20</td>\n",
       "    </tr>\n",
       "    <tr>\n",
       "      <th>3</th>\n",
       "      <td>1230877</td>\n",
       "      <td>11/1/2019</td>\n",
       "      <td>437800.0</td>\n",
       "      <td>-20000.0</td>\n",
       "      <td>high</td>\n",
       "      <td>Target</td>\n",
       "      <td>20</td>\n",
       "    </tr>\n",
       "    <tr>\n",
       "      <th>4</th>\n",
       "      <td>1276799</td>\n",
       "      <td>2/24/2019</td>\n",
       "      <td>435275.0</td>\n",
       "      <td>69825.0</td>\n",
       "      <td>ka</td>\n",
       "      <td>Target</td>\n",
       "      <td>50</td>\n",
       "    </tr>\n",
       "  </tbody>\n",
       "</table>\n",
       "</div>"
      ],
      "text/plain": [
       "   accountid        date     handle  grossrevenue last_12months_segment  \\\n",
       "0    1230877  11/24/2019  1104750.0      -49000.0                  high   \n",
       "1    1230877  11/26/2019   596214.0      -30336.0                  high   \n",
       "2    1230877  11/13/2019   465250.0      -36000.0                  high   \n",
       "3    1230877   11/1/2019   437800.0      -20000.0                  high   \n",
       "4    1276799   2/24/2019   435275.0       69825.0                    ka   \n",
       "\n",
       "  Target/CG  bonus  \n",
       "0    Target     20  \n",
       "1    Target     20  \n",
       "2    Target     20  \n",
       "3    Target     20  \n",
       "4    Target     50  "
      ]
     },
     "execution_count": 417,
     "metadata": {},
     "output_type": "execute_result"
    }
   ],
   "source": [
    "race.head()"
   ]
  },
  {
   "cell_type": "code",
   "execution_count": 418,
   "metadata": {},
   "outputs": [],
   "source": [
    "# only applied once to each customer, \n",
    "race = race.groupby(['accountid', 'last_12months_segment', 'Target/CG', 'date']).mean().reset_index()"
   ]
  },
  {
   "cell_type": "code",
   "execution_count": 419,
   "metadata": {},
   "outputs": [],
   "source": [
    "# adding binary column, 0 for handle of 0, 1 for handle of not 0 \n",
    "def label_bet(row):\n",
    "    if row['handle']==0:\n",
    "        return 0\n",
    "    else:\n",
    "        return 1"
   ]
  },
  {
   "cell_type": "code",
   "execution_count": 420,
   "metadata": {},
   "outputs": [],
   "source": [
    "race['bet'] = race.apply(lambda row: label_bet(row), axis=1)"
   ]
  },
  {
   "cell_type": "code",
   "execution_count": 421,
   "metadata": {},
   "outputs": [],
   "source": [
    "# promo is only dropped in target accounts \n",
    "target = race[race['Target/CG']=='Target']\n",
    "control = race[race['Target/CG']=='Control Group']\n",
    "\n",
    "low_target = target[target['last_12months_segment']=='low']\n",
    "med_target = target[target['last_12months_segment']=='medium']\n",
    "high_target = target[target['last_12months_segment']=='high']\n",
    "vip_target = target[target['last_12months_segment']=='ka']\n",
    "regnodep_target = target[target['last_12months_segment']=='regnodep']\n",
    "nobet_target = target[target['last_12months_segment']=='no bet']\n",
    "\n",
    "low_control = control[control['last_12months_segment']=='low']\n",
    "med_control = control[control['last_12months_segment']=='medium']\n",
    "high_control = control[control['last_12months_segment']=='high']\n",
    "vip_control = control[control['last_12months_segment']=='ka']\n",
    "regnodep_control = control[control['last_12months_segment']=='regnodep']\n",
    "nobet_control = control[control['last_12months_segment']=='no bet']"
   ]
  },
  {
   "cell_type": "code",
   "execution_count": 422,
   "metadata": {},
   "outputs": [
    {
     "data": {
      "text/plain": [
       "5     3367\n",
       "10    2793\n",
       "20    2293\n",
       "50    1392\n",
       "Name: bonus, dtype: int64"
      ]
     },
     "metadata": {},
     "output_type": "display_data"
    },
    {
     "data": {
      "text/plain": [
       "5     963\n",
       "10    609\n",
       "20    573\n",
       "50    191\n",
       "Name: bonus, dtype: int64"
      ]
     },
     "metadata": {},
     "output_type": "display_data"
    }
   ],
   "source": [
    "display(target.bonus.value_counts())\n",
    "display(control.bonus.value_counts())"
   ]
  },
  {
   "cell_type": "markdown",
   "metadata": {},
   "source": [
    "how much money went into the promo / how much did we give to the customers, ie the investment in the promo"
   ]
  },
  {
   "cell_type": "code",
   "execution_count": 423,
   "metadata": {},
   "outputs": [
    {
     "data": {
      "text/plain": [
       "160225"
      ]
     },
     "execution_count": 423,
     "metadata": {},
     "output_type": "execute_result"
    }
   ],
   "source": [
    "sum(target.groupby('accountid')['bonus'].sum())"
   ]
  },
  {
   "cell_type": "markdown",
   "metadata": {},
   "source": [
    "ways i will see if the promo was successful: \n",
    "* comparing proportions of low, med, high, vip tier accounts that used bets / handle not 0 in target and control (new customers) \n",
    "* compare handle 0 proportions in target/control groups (new customers) \n",
    "* seeing if this promo generated accounts to bet multiple times or invested more money into bets (loyalty) \n",
    "* got older accounts (no bet) or new and unused accounts to place bets \n"
   ]
  },
  {
   "cell_type": "markdown",
   "metadata": {},
   "source": [
    "## Comparing Tier Proportions "
   ]
  },
  {
   "cell_type": "markdown",
   "metadata": {},
   "source": [
    "to start, i will look at the number of each \"tier\" in both target and control groups. my assumptions on the meanings of the column \"last_12months_segment\":\n",
    "* low = lower tier, don't use fanduel frequently or bet smaller amounts of money\n",
    "* medium = medium tier, use fanduel frequently or bet higher amounts\n",
    "* high = use fanduel frequently or bet high amounts\n",
    "* ka = vip members\n",
    "* regnodep = in the past 12 months have registered for an account but haven't made any deposits\n",
    "* no bet = in the past 12 months have not made a bet, older accounts"
   ]
  },
  {
   "cell_type": "code",
   "execution_count": 424,
   "metadata": {},
   "outputs": [
    {
     "data": {
      "text/plain": [
       "Index(['low', 'medium', 'high', 'ka', 'regnodep', 'no bet'], dtype='object')"
      ]
     },
     "execution_count": 424,
     "metadata": {},
     "output_type": "execute_result"
    }
   ],
   "source": [
    "target['last_12months_segment'].value_counts().index"
   ]
  },
  {
   "cell_type": "code",
   "execution_count": 425,
   "metadata": {},
   "outputs": [
    {
     "data": {
      "text/plain": [
       "Text(0.5, 1.0, 'Target Group')"
      ]
     },
     "execution_count": 425,
     "metadata": {},
     "output_type": "execute_result"
    },
    {
     "data": {
      "image/png": "[encoded data removed]",
      "text/plain": [
       "<Figure size 432x288 with 1 Axes>"
      ]
     },
     "metadata": {
      "needs_background": "light"
     },
     "output_type": "display_data"
    }
   ],
   "source": [
    "sns.barplot(x=target['last_12months_segment'].value_counts().index, y=target['last_12months_segment'].value_counts().values)\n",
    "plt.title('Target Group')"
   ]
  },
  {
   "cell_type": "code",
   "execution_count": 426,
   "metadata": {},
   "outputs": [
    {
     "data": {
      "text/plain": [
       "Text(0.5, 1.0, 'Control Group')"
      ]
     },
     "execution_count": 426,
     "metadata": {},
     "output_type": "execute_result"
    },
    {
     "data": {
      "image/png": "[encoded data removed]",
      "text/plain": [
       "<Figure size 432x288 with 1 Axes>"
      ]
     },
     "metadata": {
      "needs_background": "light"
     },
     "output_type": "display_data"
    }
   ],
   "source": [
    "sns.barplot(x=control['last_12months_segment'].value_counts().index, y=control['last_12months_segment'].value_counts().values)\n",
    "plt.title('Control Group')"
   ]
  },
  {
   "cell_type": "markdown",
   "metadata": {},
   "source": [
    "distributions are pretty similar, except the target group has a higher proportion of medium tier customers. this might give insight to the targeted group of this promo "
   ]
  },
  {
   "cell_type": "markdown",
   "metadata": {},
   "source": [
    "which groups increased/decreased in proportions? "
   ]
  },
  {
   "cell_type": "code",
   "execution_count": 427,
   "metadata": {},
   "outputs": [
    {
     "data": {
      "text/plain": [
       "0.3071609954291519"
      ]
     },
     "metadata": {},
     "output_type": "display_data"
    },
    {
     "data": {
      "text/plain": [
       "0.3745719178082192"
      ]
     },
     "metadata": {},
     "output_type": "display_data"
    }
   ],
   "source": [
    "# low\n",
    "display(len(low_target) / len(target)) \n",
    "display(len(low_control) / len(control))"
   ]
  },
  {
   "cell_type": "code",
   "execution_count": 428,
   "metadata": {},
   "outputs": [
    {
     "data": {
      "text/plain": [
       "0.28369730827831385"
      ]
     },
     "metadata": {},
     "output_type": "display_data"
    },
    {
     "data": {
      "text/plain": [
       "0.2607020547945205"
      ]
     },
     "metadata": {},
     "output_type": "display_data"
    }
   ],
   "source": [
    "# medium\n",
    "display(len(med_target) / len(target)) \n",
    "display(len(med_control) / len(control))"
   ]
  },
  {
   "cell_type": "code",
   "execution_count": 429,
   "metadata": {},
   "outputs": [
    {
     "data": {
      "text/plain": [
       "0.23291010665312342"
      ]
     },
     "metadata": {},
     "output_type": "display_data"
    },
    {
     "data": {
      "text/plain": [
       "0.24529109589041095"
      ]
     },
     "metadata": {},
     "output_type": "display_data"
    }
   ],
   "source": [
    "# high\n",
    "display(len(high_target) / len(target)) \n",
    "display(len(high_control) / len(control))"
   ]
  },
  {
   "cell_type": "code",
   "execution_count": 430,
   "metadata": {},
   "outputs": [
    {
     "data": {
      "text/plain": [
       "0.14139156932453023"
      ]
     },
     "metadata": {},
     "output_type": "display_data"
    },
    {
     "data": {
      "text/plain": [
       "0.08176369863013698"
      ]
     },
     "metadata": {},
     "output_type": "display_data"
    }
   ],
   "source": [
    "# vip\n",
    "display(len(vip_target) / len(target)) \n",
    "display(len(vip_control) / len(control))"
   ]
  },
  {
   "cell_type": "code",
   "execution_count": 431,
   "metadata": {},
   "outputs": [
    {
     "data": {
      "text/plain": [
       "0.03291010665312341"
      ]
     },
     "metadata": {},
     "output_type": "display_data"
    },
    {
     "data": {
      "text/plain": [
       "0.03424657534246575"
      ]
     },
     "metadata": {},
     "output_type": "display_data"
    }
   ],
   "source": [
    "# regnodep\n",
    "display(len(regnodep_target) / len(target)) \n",
    "display(len(regnodep_control) / len(control))"
   ]
  },
  {
   "cell_type": "code",
   "execution_count": 432,
   "metadata": {},
   "outputs": [
    {
     "data": {
      "text/plain": [
       "0.0019299136617572372"
      ]
     },
     "metadata": {},
     "output_type": "display_data"
    },
    {
     "data": {
      "text/plain": [
       "0.003424657534246575"
      ]
     },
     "metadata": {},
     "output_type": "display_data"
    }
   ],
   "source": [
    "# no bet\n",
    "display(len(nobet_target) / len(target)) \n",
    "display(len(nobet_control) / len(control))"
   ]
  },
  {
   "cell_type": "markdown",
   "metadata": {},
   "source": [
    "the promo increased proportions for medium and vip tier accounts. this does not necessarily mean that these groups used the promos, the handle could still be 0. so we will dive deeper into these groups seeing which how many used the promo / put in money on a race. "
   ]
  },
  {
   "cell_type": "markdown",
   "metadata": {},
   "source": [
    "## New customers / How many took advantage of the promo? "
   ]
  },
  {
   "cell_type": "markdown",
   "metadata": {},
   "source": [
    "seeing how many accounts have a handle of 0 in both groups. a handle of 0 would indicate that they did not use promo given for this race "
   ]
  },
  {
   "cell_type": "code",
   "execution_count": 433,
   "metadata": {},
   "outputs": [
    {
     "data": {
      "text/plain": [
       "0.12513966480446928"
      ]
     },
     "metadata": {},
     "output_type": "display_data"
    },
    {
     "data": {
      "text/plain": [
       "0.022688356164383562"
      ]
     },
     "metadata": {},
     "output_type": "display_data"
    }
   ],
   "source": [
    "display(len(target[target['handle']==0]) / len(target))\n",
    "display(len(control[control['handle']==0]) / len(control))\n"
   ]
  },
  {
   "cell_type": "code",
   "execution_count": 434,
   "metadata": {},
   "outputs": [
    {
     "data": {
      "text/plain": [
       "Int64Index([1, 0], dtype='int64')"
      ]
     },
     "execution_count": 434,
     "metadata": {},
     "output_type": "execute_result"
    }
   ],
   "source": [
    "target['bet'].value_counts().index"
   ]
  },
  {
   "cell_type": "code",
   "execution_count": 435,
   "metadata": {},
   "outputs": [
    {
     "data": {
      "text/plain": [
       "Text(0.5, 1.0, 'Target Group Bets/No Bets')"
      ]
     },
     "execution_count": 435,
     "metadata": {},
     "output_type": "execute_result"
    },
    {
     "data": {
      "image/png": "[encoded data removed]",
      "text/plain": [
       "<Figure size 432x288 with 1 Axes>"
      ]
     },
     "metadata": {
      "needs_background": "light"
     },
     "output_type": "display_data"
    }
   ],
   "source": [
    "sns.barplot(x=target['bet'].value_counts().index, y=target['bet'].value_counts().values)\n",
    "plt.title('Target Group Bets/No Bets')"
   ]
  },
  {
   "cell_type": "code",
   "execution_count": 436,
   "metadata": {},
   "outputs": [
    {
     "data": {
      "text/plain": [
       "Text(0.5, 1.0, 'Control Group Bets/No Bets')"
      ]
     },
     "execution_count": 436,
     "metadata": {},
     "output_type": "execute_result"
    },
    {
     "data": {
      "image/png": "[encoded data removed]",
      "text/plain": [
       "<Figure size 432x288 with 1 Axes>"
      ]
     },
     "metadata": {
      "needs_background": "light"
     },
     "output_type": "display_data"
    }
   ],
   "source": [
    "sns.barplot(x=control['bet'].value_counts().index, y=control['bet'].value_counts().values)\n",
    "plt.title('Control Group Bets/No Bets')"
   ]
  },
  {
   "cell_type": "markdown",
   "metadata": {},
   "source": [
    "It appears that more accounts in the target group did not bet, or put in no money. "
   ]
  },
  {
   "cell_type": "code",
   "execution_count": 437,
   "metadata": {},
   "outputs": [
    {
     "data": {
      "text/plain": [
       "0.019704433497536946"
      ]
     },
     "execution_count": 437,
     "metadata": {},
     "output_type": "execute_result"
    }
   ],
   "source": [
    "len(med_control[med_control['handle']==0]) / len(med_control)"
   ]
  },
  {
   "cell_type": "code",
   "execution_count": 438,
   "metadata": {},
   "outputs": [
    {
     "data": {
      "text/plain": [
       "0.09237379162191192"
      ]
     },
     "execution_count": 438,
     "metadata": {},
     "output_type": "execute_result"
    }
   ],
   "source": [
    "len(med_target[med_target['handle']==0]) / len(med_target)"
   ]
  },
  {
   "cell_type": "code",
   "execution_count": 439,
   "metadata": {},
   "outputs": [
    {
     "data": {
      "text/plain": [
       "0.0"
      ]
     },
     "execution_count": 439,
     "metadata": {},
     "output_type": "execute_result"
    }
   ],
   "source": [
    "len(vip_control[vip_control['handle']==0]) / len(vip_control)"
   ]
  },
  {
   "cell_type": "code",
   "execution_count": 440,
   "metadata": {},
   "outputs": [
    {
     "data": {
      "text/plain": [
       "0.21551724137931033"
      ]
     },
     "execution_count": 440,
     "metadata": {},
     "output_type": "execute_result"
    }
   ],
   "source": [
    "len(vip_target[vip_target['handle']==0]) / len(vip_target)"
   ]
  },
  {
   "cell_type": "code",
   "execution_count": 441,
   "metadata": {},
   "outputs": [
    {
     "data": {
      "text/plain": [
       "Text(0.5, 1, 'Count of Customers Who Placed a Bet with/without Promo')"
      ]
     },
     "execution_count": 441,
     "metadata": {},
     "output_type": "execute_result"
    },
    {
     "data": {
      "image/png": "[encoded data removed]",
      "text/plain": [
       "<Figure size 465.75x360 with 1 Axes>"
      ]
     },
     "metadata": {
      "needs_background": "light"
     },
     "output_type": "display_data"
    }
   ],
   "source": [
    "sns.factorplot(x='last_12months_segment', y='bet', kind='bar', hue='Target/CG', data=race)\n",
    "plt.title('Count of Customers Who Placed a Bet with/without Promo')"
   ]
  },
  {
   "cell_type": "markdown",
   "metadata": {},
   "source": [
    "## Regaining Interest in Existing Accounts "
   ]
  },
  {
   "cell_type": "markdown",
   "metadata": {},
   "source": [
    "look into regnodep and no bet accounts to see if promo was successful for these tiers"
   ]
  },
  {
   "cell_type": "code",
   "execution_count": 442,
   "metadata": {},
   "outputs": [
    {
     "data": {
      "text/plain": [
       "<matplotlib.legend.Legend at 0x12838c1d0>"
      ]
     },
     "execution_count": 442,
     "metadata": {},
     "output_type": "execute_result"
    },
    {
     "data": {
      "image/png": "[encoded data removed]",
      "text/plain": [
       "<Figure size 432x288 with 1 Axes>"
      ]
     },
     "metadata": {
      "needs_background": "light"
     },
     "output_type": "display_data"
    }
   ],
   "source": [
    "sns.distplot(regnodep_control[regnodep_control['bet']==1].handle, label='control', hist=False)\n",
    "sns.distplot(regnodep_target[regnodep_target['bet']==1].handle, label='target', hist=False)\n",
    "plt.title('Distribution of the Amount of Money Placed in a Bet for \"Regnodep\" Accounts')\n",
    "plt.legend()"
   ]
  },
  {
   "cell_type": "code",
   "execution_count": 443,
   "metadata": {},
   "outputs": [
    {
     "data": {
      "text/plain": [
       "152.14247191011233"
      ]
     },
     "execution_count": 443,
     "metadata": {},
     "output_type": "execute_result"
    }
   ],
   "source": [
    "regnodep_target[regnodep_target['bet']==1].handle.mean()"
   ]
  },
  {
   "cell_type": "code",
   "execution_count": 444,
   "metadata": {},
   "outputs": [
    {
     "data": {
      "text/plain": [
       "267.9242857142857"
      ]
     },
     "execution_count": 444,
     "metadata": {},
     "output_type": "execute_result"
    }
   ],
   "source": [
    "regnodep_control[regnodep_control['bet']==1].handle.mean()"
   ]
  },
  {
   "cell_type": "code",
   "execution_count": 445,
   "metadata": {
    "scrolled": true
   },
   "outputs": [
    {
     "data": {
      "text/plain": [
       "<matplotlib.legend.Legend at 0x1285ef128>"
      ]
     },
     "execution_count": 445,
     "metadata": {},
     "output_type": "execute_result"
    },
    {
     "data": {
      "image/png": "[encoded data removed]",
      "text/plain": [
       "<Figure size 432x288 with 1 Axes>"
      ]
     },
     "metadata": {
      "needs_background": "light"
     },
     "output_type": "display_data"
    }
   ],
   "source": [
    "sns.distplot(nobet_control[nobet_control['bet']==1].handle, label='control', hist=False)\n",
    "sns.distplot(nobet_target[nobet_target['bet']==1].handle, label='target', hist=False)\n",
    "plt.title('Distribution of the Amount of Money Placed in a Bet for \"No Bet\" Accounts')\n",
    "plt.legend()"
   ]
  },
  {
   "cell_type": "code",
   "execution_count": 446,
   "metadata": {},
   "outputs": [
    {
     "data": {
      "text/plain": [
       "334.86333333333334"
      ]
     },
     "execution_count": 446,
     "metadata": {},
     "output_type": "execute_result"
    }
   ],
   "source": [
    "nobet_target[nobet_target['bet']==1].handle.mean()"
   ]
  },
  {
   "cell_type": "code",
   "execution_count": 447,
   "metadata": {},
   "outputs": [
    {
     "data": {
      "text/plain": [
       "364.7157142857142"
      ]
     },
     "execution_count": 447,
     "metadata": {},
     "output_type": "execute_result"
    }
   ],
   "source": [
    "nobet_control[nobet_control['bet']==1].handle.mean()"
   ]
  },
  {
   "cell_type": "markdown",
   "metadata": {},
   "source": [
    "## Analyzing Multiplicity of Accounts"
   ]
  },
  {
   "cell_type": "markdown",
   "metadata": {},
   "source": [
    "we will now see if this promo encouraged users to place bets on more than one race. although the promo was only applied once, we can see if this promo gained interest/loyalty in users. "
   ]
  },
  {
   "cell_type": "code",
   "execution_count": 448,
   "metadata": {},
   "outputs": [],
   "source": [
    "race_mult = race.groupby(['accountid', 'last_12months_segment', 'Target/CG']).count().reset_index()\n",
    "race_mult = race_mult.drop(columns=['handle', 'grossrevenue', 'bonus', 'date'], axis=0)"
   ]
  },
  {
   "cell_type": "code",
   "execution_count": 449,
   "metadata": {},
   "outputs": [
    {
     "data": {
      "text/html": [
       "<div>\n",
       "<style scoped>\n",
       "    .dataframe tbody tr th:only-of-type {\n",
       "        vertical-align: middle;\n",
       "    }\n",
       "\n",
       "    .dataframe tbody tr th {\n",
       "        vertical-align: top;\n",
       "    }\n",
       "\n",
       "    .dataframe thead th {\n",
       "        text-align: right;\n",
       "    }\n",
       "</style>\n",
       "<table border=\"1\" class=\"dataframe\">\n",
       "  <thead>\n",
       "    <tr style=\"text-align: right;\">\n",
       "      <th></th>\n",
       "      <th>accountid</th>\n",
       "      <th>last_12months_segment</th>\n",
       "      <th>Target/CG</th>\n",
       "      <th>bet</th>\n",
       "    </tr>\n",
       "  </thead>\n",
       "  <tbody>\n",
       "    <tr>\n",
       "      <th>0</th>\n",
       "      <td>1128453</td>\n",
       "      <td>low</td>\n",
       "      <td>Target</td>\n",
       "      <td>17</td>\n",
       "    </tr>\n",
       "    <tr>\n",
       "      <th>1</th>\n",
       "      <td>1128604</td>\n",
       "      <td>medium</td>\n",
       "      <td>Target</td>\n",
       "      <td>221</td>\n",
       "    </tr>\n",
       "    <tr>\n",
       "      <th>2</th>\n",
       "      <td>1128675</td>\n",
       "      <td>low</td>\n",
       "      <td>Target</td>\n",
       "      <td>53</td>\n",
       "    </tr>\n",
       "    <tr>\n",
       "      <th>3</th>\n",
       "      <td>1129036</td>\n",
       "      <td>low</td>\n",
       "      <td>Control Group</td>\n",
       "      <td>1</td>\n",
       "    </tr>\n",
       "    <tr>\n",
       "      <th>4</th>\n",
       "      <td>1130293</td>\n",
       "      <td>low</td>\n",
       "      <td>Target</td>\n",
       "      <td>2</td>\n",
       "    </tr>\n",
       "  </tbody>\n",
       "</table>\n",
       "</div>"
      ],
      "text/plain": [
       "   accountid last_12months_segment      Target/CG  bet\n",
       "0    1128453                   low         Target   17\n",
       "1    1128604                medium         Target  221\n",
       "2    1128675                   low         Target   53\n",
       "3    1129036                   low  Control Group    1\n",
       "4    1130293                   low         Target    2"
      ]
     },
     "execution_count": 449,
     "metadata": {},
     "output_type": "execute_result"
    }
   ],
   "source": [
    "race_mult.head()"
   ]
  },
  {
   "cell_type": "code",
   "execution_count": 450,
   "metadata": {},
   "outputs": [
    {
     "data": {
      "text/plain": [
       "(699, 4)"
      ]
     },
     "metadata": {},
     "output_type": "display_data"
    },
    {
     "data": {
      "text/plain": [
       "699"
      ]
     },
     "execution_count": 450,
     "metadata": {},
     "output_type": "execute_result"
    }
   ],
   "source": [
    "# checking that each record in the new df is a unique account \n",
    "display(race_mult.shape)\n",
    "len(race_mult.accountid.unique())"
   ]
  },
  {
   "cell_type": "code",
   "execution_count": 465,
   "metadata": {},
   "outputs": [
    {
     "data": {
      "text/plain": [
       "Text(0.5, 1, 'Frequency of Bets per Tier')"
      ]
     },
     "execution_count": 465,
     "metadata": {},
     "output_type": "execute_result"
    },
    {
     "data": {
      "image/png": "[encoded data removed]",
      "text/plain": [
       "<Figure size 465.75x360 with 1 Axes>"
      ]
     },
     "metadata": {
      "needs_background": "light"
     },
     "output_type": "display_data"
    }
   ],
   "source": [
    "sns.catplot(x='last_12months_segment', y='bet', kind='bar', hue='Target/CG', data=race_mult)\n",
    "plt.title('Frequency of Bets per Tier')"
   ]
  },
  {
   "cell_type": "code",
   "execution_count": 466,
   "metadata": {},
   "outputs": [],
   "source": [
    "# grouping by account id so we get one row per user\n",
    "target_mult = target.groupby(['accountid', 'last_12months_segment', 'Target/CG']).count().reset_index()\n",
    "target_mult = target_mult.drop(columns=['handle', 'grossrevenue', 'bonus', 'date'], axis=0)"
   ]
  },
  {
   "cell_type": "code",
   "execution_count": 467,
   "metadata": {},
   "outputs": [
    {
     "data": {
      "text/html": [
       "<div>\n",
       "<style scoped>\n",
       "    .dataframe tbody tr th:only-of-type {\n",
       "        vertical-align: middle;\n",
       "    }\n",
       "\n",
       "    .dataframe tbody tr th {\n",
       "        vertical-align: top;\n",
       "    }\n",
       "\n",
       "    .dataframe thead th {\n",
       "        text-align: right;\n",
       "    }\n",
       "</style>\n",
       "<table border=\"1\" class=\"dataframe\">\n",
       "  <thead>\n",
       "    <tr style=\"text-align: right;\">\n",
       "      <th></th>\n",
       "      <th>accountid</th>\n",
       "      <th>last_12months_segment</th>\n",
       "      <th>Target/CG</th>\n",
       "      <th>bet</th>\n",
       "    </tr>\n",
       "  </thead>\n",
       "  <tbody>\n",
       "    <tr>\n",
       "      <th>0</th>\n",
       "      <td>1128453</td>\n",
       "      <td>low</td>\n",
       "      <td>Target</td>\n",
       "      <td>17</td>\n",
       "    </tr>\n",
       "    <tr>\n",
       "      <th>1</th>\n",
       "      <td>1128604</td>\n",
       "      <td>medium</td>\n",
       "      <td>Target</td>\n",
       "      <td>221</td>\n",
       "    </tr>\n",
       "    <tr>\n",
       "      <th>2</th>\n",
       "      <td>1128675</td>\n",
       "      <td>low</td>\n",
       "      <td>Target</td>\n",
       "      <td>53</td>\n",
       "    </tr>\n",
       "    <tr>\n",
       "      <th>3</th>\n",
       "      <td>1130293</td>\n",
       "      <td>low</td>\n",
       "      <td>Target</td>\n",
       "      <td>2</td>\n",
       "    </tr>\n",
       "    <tr>\n",
       "      <th>4</th>\n",
       "      <td>1130358</td>\n",
       "      <td>low</td>\n",
       "      <td>Target</td>\n",
       "      <td>14</td>\n",
       "    </tr>\n",
       "  </tbody>\n",
       "</table>\n",
       "</div>"
      ],
      "text/plain": [
       "   accountid last_12months_segment Target/CG  bet\n",
       "0    1128453                   low    Target   17\n",
       "1    1128604                medium    Target  221\n",
       "2    1128675                   low    Target   53\n",
       "3    1130293                   low    Target    2\n",
       "4    1130358                   low    Target   14"
      ]
     },
     "execution_count": 467,
     "metadata": {},
     "output_type": "execute_result"
    }
   ],
   "source": [
    "target_mult.head()"
   ]
  },
  {
   "cell_type": "code",
   "execution_count": 468,
   "metadata": {},
   "outputs": [],
   "source": [
    "control_mult = control.groupby(['accountid', 'last_12months_segment', 'Target/CG']).count().reset_index()\n",
    "control_mult = control_mult.drop(columns=['handle', 'grossrevenue', 'bonus', 'date'], axis=0)"
   ]
  },
  {
   "cell_type": "code",
   "execution_count": 469,
   "metadata": {},
   "outputs": [
    {
     "data": {
      "text/html": [
       "<div>\n",
       "<style scoped>\n",
       "    .dataframe tbody tr th:only-of-type {\n",
       "        vertical-align: middle;\n",
       "    }\n",
       "\n",
       "    .dataframe tbody tr th {\n",
       "        vertical-align: top;\n",
       "    }\n",
       "\n",
       "    .dataframe thead th {\n",
       "        text-align: right;\n",
       "    }\n",
       "</style>\n",
       "<table border=\"1\" class=\"dataframe\">\n",
       "  <thead>\n",
       "    <tr style=\"text-align: right;\">\n",
       "      <th></th>\n",
       "      <th>accountid</th>\n",
       "      <th>last_12months_segment</th>\n",
       "      <th>Target/CG</th>\n",
       "      <th>bet</th>\n",
       "    </tr>\n",
       "  </thead>\n",
       "  <tbody>\n",
       "    <tr>\n",
       "      <th>0</th>\n",
       "      <td>1129036</td>\n",
       "      <td>low</td>\n",
       "      <td>Control Group</td>\n",
       "      <td>1</td>\n",
       "    </tr>\n",
       "    <tr>\n",
       "      <th>1</th>\n",
       "      <td>1136220</td>\n",
       "      <td>medium</td>\n",
       "      <td>Control Group</td>\n",
       "      <td>198</td>\n",
       "    </tr>\n",
       "    <tr>\n",
       "      <th>2</th>\n",
       "      <td>1148646</td>\n",
       "      <td>low</td>\n",
       "      <td>Control Group</td>\n",
       "      <td>40</td>\n",
       "    </tr>\n",
       "    <tr>\n",
       "      <th>3</th>\n",
       "      <td>1150380</td>\n",
       "      <td>low</td>\n",
       "      <td>Control Group</td>\n",
       "      <td>3</td>\n",
       "    </tr>\n",
       "    <tr>\n",
       "      <th>4</th>\n",
       "      <td>1155176</td>\n",
       "      <td>medium</td>\n",
       "      <td>Control Group</td>\n",
       "      <td>46</td>\n",
       "    </tr>\n",
       "  </tbody>\n",
       "</table>\n",
       "</div>"
      ],
      "text/plain": [
       "   accountid last_12months_segment      Target/CG  bet\n",
       "0    1129036                   low  Control Group    1\n",
       "1    1136220                medium  Control Group  198\n",
       "2    1148646                   low  Control Group   40\n",
       "3    1150380                   low  Control Group    3\n",
       "4    1155176                medium  Control Group   46"
      ]
     },
     "execution_count": 469,
     "metadata": {},
     "output_type": "execute_result"
    }
   ],
   "source": [
    "control_mult.head()"
   ]
  },
  {
   "cell_type": "code",
   "execution_count": 497,
   "metadata": {},
   "outputs": [
    {
     "data": {
      "text/plain": [
       "Text(0.5, 1.0, 'Distribution of Amount of Bets per Account')"
      ]
     },
     "execution_count": 497,
     "metadata": {},
     "output_type": "execute_result"
    },
    {
     "data": {
      "image/png": "[encoded data removed]",
      "text/plain": [
       "<Figure size 432x288 with 1 Axes>"
      ]
     },
     "metadata": {
      "needs_background": "light"
     },
     "output_type": "display_data"
    }
   ],
   "source": [
    "sns.distplot(target_mult.bet, hist=False, label='Target')\n",
    "sns.distplot(control_mult.bet, hist=False, label='Control')\n",
    "plt.title('Distribution of Amount of Bets per Account')"
   ]
  },
  {
   "cell_type": "code",
   "execution_count": 479,
   "metadata": {},
   "outputs": [],
   "source": [
    "# low\n",
    "low_target_mult = target_mult[target_mult['last_12months_segment']=='low']\n",
    "low_control_mult = control_mult[control_mult['last_12months_segment']=='low']"
   ]
  },
  {
   "cell_type": "code",
   "execution_count": 498,
   "metadata": {},
   "outputs": [
    {
     "data": {
      "text/plain": [
       "Text(0.5, 1.0, 'Low Tier Distribution')"
      ]
     },
     "execution_count": 498,
     "metadata": {},
     "output_type": "execute_result"
    },
    {
     "data": {
      "image/png": "[encoded data removed]",
      "text/plain": [
       "<Figure size 432x288 with 1 Axes>"
      ]
     },
     "metadata": {
      "needs_background": "light"
     },
     "output_type": "display_data"
    }
   ],
   "source": [
    "sns.distplot(low_target_mult.bet, hist=False, label='Target')\n",
    "sns.distplot(low_control_mult.bet, hist=False, label='Control')\n",
    "plt.title('Low Tier Distribution')"
   ]
  },
  {
   "cell_type": "code",
   "execution_count": 499,
   "metadata": {},
   "outputs": [],
   "source": [
    "# vip\n",
    "vip_target_mult = target_mult[target_mult['last_12months_segment']=='ka']\n",
    "vip_control_mult = control_mult[control_mult['last_12months_segment']=='ka']"
   ]
  },
  {
   "cell_type": "code",
   "execution_count": 501,
   "metadata": {},
   "outputs": [
    {
     "data": {
      "text/plain": [
       "Text(0.5, 1.0, 'VIP Tier Distribution')"
      ]
     },
     "execution_count": 501,
     "metadata": {},
     "output_type": "execute_result"
    },
    {
     "data": {
      "image/png": "[encoded data removed]",
      "text/plain": [
       "<Figure size 432x288 with 1 Axes>"
      ]
     },
     "metadata": {
      "needs_background": "light"
     },
     "output_type": "display_data"
    }
   ],
   "source": [
    "sns.distplot(vip_target_mult.bet, hist=False, label='Target')\n",
    "sns.distplot(vip_control_mult.bet, hist=False, label='Control')\n",
    "plt.title('VIP Tier Distribution')"
   ]
  },
  {
   "cell_type": "code",
   "execution_count": null,
   "metadata": {},
   "outputs": [],
   "source": []
  }
 ],
 "metadata": {
  "kernelspec": {
   "display_name": "Python 3",
   "language": "python",
   "name": "python3"
  },
  "language_info": {
   "codemirror_mode": {
    "name": "ipython",
    "version": 3
   },
   "file_extension": ".py",
   "mimetype": "text/x-python",
   "name": "python",
   "nbconvert_exporter": "python",
   "pygments_lexer": "ipython3",
   "version": "3.6.0"
  }
 },
 "nbformat": 4,
 "nbformat_minor": 2
}
